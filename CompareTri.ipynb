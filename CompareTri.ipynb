{
 "cells": [
  {
   "cell_type": "code",
   "execution_count": 10,
   "id": "139d5339",
   "metadata": {},
   "outputs": [],
   "source": [
    "def compareTriplets(a, b):\n",
    "    alice = 0\n",
    "    bob = 0\n",
    "    for i in range(len(a)):\n",
    "        if a[i] > b[i]:\n",
    "            alice += 1\n",
    "        elif a[i] < b[i]:\n",
    "            bob += 1\n",
    "    return alice, bob\n"
   ]
  },
  {
   "cell_type": "code",
   "execution_count": 13,
   "id": "537ac7df",
   "metadata": {},
   "outputs": [
    {
     "data": {
      "text/plain": [
       "(1, 1)"
      ]
     },
     "execution_count": 13,
     "metadata": {},
     "output_type": "execute_result"
    }
   ],
   "source": [
    "compareTriplets([1,2,3],[3,2,1])"
   ]
  },
  {
   "cell_type": "code",
   "execution_count": 11,
   "id": "880ec114",
   "metadata": {},
   "outputs": [],
   "source": [
    "def compareTriplet(a, b):\n",
    "    alice = 0\n",
    "    bob = 0\n",
    "    for x,y in zip(a,b):\n",
    "        if x > y:\n",
    "            alice += 1\n",
    "        elif x < y:\n",
    "            bob += 1\n",
    "    return alice, bob\n"
   ]
  },
  {
   "cell_type": "code",
   "execution_count": 12,
   "id": "c99e8237",
   "metadata": {},
   "outputs": [
    {
     "data": {
      "text/plain": [
       "(1, 1)"
      ]
     },
     "execution_count": 12,
     "metadata": {},
     "output_type": "execute_result"
    }
   ],
   "source": [
    "compareTriplet([1,2,3],[3,2,1])"
   ]
  },
  {
   "cell_type": "code",
   "execution_count": null,
   "id": "2283d544",
   "metadata": {},
   "outputs": [],
   "source": []
  }
 ],
 "metadata": {
  "kernelspec": {
   "display_name": "Python 3",
   "language": "python",
   "name": "python3"
  },
  "language_info": {
   "codemirror_mode": {
    "name": "ipython",
    "version": 3
   },
   "file_extension": ".py",
   "mimetype": "text/x-python",
   "name": "python",
   "nbconvert_exporter": "python",
   "pygments_lexer": "ipython3",
   "version": "3.8.8"
  }
 },
 "nbformat": 4,
 "nbformat_minor": 5
}
