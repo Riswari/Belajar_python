{
 "cells": [
  {
   "cell_type": "code",
   "execution_count": 1,
   "id": "e37af167",
   "metadata": {},
   "outputs": [],
   "source": [
    "def BigSum(ar):\n",
    "    jum=0\n",
    "    \n",
    "    for i in range(len(ar)):\n",
    "        jum += ar[i]\n",
    "        \n",
    "    return jum\n"
   ]
  },
  {
   "cell_type": "code",
   "execution_count": 2,
   "id": "5e163327",
   "metadata": {},
   "outputs": [
    {
     "data": {
      "text/plain": [
       "15"
      ]
     },
     "execution_count": 2,
     "metadata": {},
     "output_type": "execute_result"
    }
   ],
   "source": [
    "ar = [2,1,5,7]\n",
    "BigSum(ar)"
   ]
  },
  {
   "cell_type": "code",
   "execution_count": null,
   "id": "7b4f554b",
   "metadata": {},
   "outputs": [],
   "source": []
  }
 ],
 "metadata": {
  "kernelspec": {
   "display_name": "Python 3",
   "language": "python",
   "name": "python3"
  },
  "language_info": {
   "codemirror_mode": {
    "name": "ipython",
    "version": 3
   },
   "file_extension": ".py",
   "mimetype": "text/x-python",
   "name": "python",
   "nbconvert_exporter": "python",
   "pygments_lexer": "ipython3",
   "version": "3.8.8"
  }
 },
 "nbformat": 4,
 "nbformat_minor": 5
}
